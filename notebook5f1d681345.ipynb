{
  "nbformat": 4,
  "nbformat_minor": 0,
  "metadata": {
    "kernelspec": {
      "language": "python",
      "display_name": "Python 3",
      "name": "python3"
    },
    "language_info": {
      "name": "python",
      "version": "3.7.10",
      "mimetype": "text/x-python",
      "codemirror_mode": {
        "name": "ipython",
        "version": 3
      },
      "pygments_lexer": "ipython3",
      "nbconvert_exporter": "python",
      "file_extension": ".py"
    },
    "colab": {
      "name": "notebook5f1d681345.ipynb",
      "provenance": [],
      "include_colab_link": true
    }
  },
  "cells": [
    {
      "cell_type": "markdown",
      "metadata": {
        "id": "view-in-github",
        "colab_type": "text"
      },
      "source": [
        "<a href=\"https://colab.research.google.com/github/HussamSelim/NLP_JIGSAW-Using-RNN_LSTM_GRU/blob/main/notebook5f1d681345.ipynb\" target=\"_parent\"><img src=\"https://colab.research.google.com/assets/colab-badge.svg\" alt=\"Open In Colab\"/></a>"
      ]
    },
    {
      "cell_type": "code",
      "metadata": {
        "execution": {
          "iopub.status.busy": "2021-11-23T13:21:47.065204Z",
          "iopub.execute_input": "2021-11-23T13:21:47.065678Z",
          "iopub.status.idle": "2021-11-23T13:21:55.866843Z",
          "shell.execute_reply.started": "2021-11-23T13:21:47.065638Z",
          "shell.execute_reply": "2021-11-23T13:21:55.866108Z"
        },
        "trusted": true,
        "id": "gsq_xBYVrm0C"
      },
      "source": [
        "import numpy as np \n",
        "import pandas as pd\n",
        "from tqdm import tqdm\n",
        "from sklearn.model_selection import train_test_split\n",
        "import tensorflow as tf\n",
        "from tensorflow.keras.models import Sequential\n",
        "from tensorflow.keras.layers import LSTM, GRU,SimpleRNN\n",
        "from tensorflow.keras.layers import Dense, Activation, Dropout\n",
        "from tensorflow.keras.layers import Embedding\n",
        "from tensorflow.keras.layers import BatchNormalization\n",
        "# from tensorflow.keras import np_utils\n",
        "from sklearn import preprocessing, decomposition, model_selection, metrics, pipeline\n",
        "from tensorflow.keras.layers import GlobalMaxPooling1D, Conv1D, MaxPooling1D, Flatten, Bidirectional, SpatialDropout1D\n",
        "from tensorflow.keras.preprocessing import sequence, text\n",
        "from tensorflow.keras.callbacks import EarlyStopping\n",
        "\n",
        "\n",
        "import matplotlib.pyplot as plt\n",
        "import seaborn as sns\n",
        "%matplotlib inline\n",
        "from plotly import graph_objs as go\n",
        "import plotly.express as px\n",
        "import plotly.figure_factory as ff"
      ],
      "execution_count": null,
      "outputs": []
    },
    {
      "cell_type": "code",
      "metadata": {
        "execution": {
          "iopub.status.busy": "2021-11-23T13:21:55.868241Z",
          "iopub.execute_input": "2021-11-23T13:21:55.868488Z",
          "iopub.status.idle": "2021-11-23T13:21:59.362273Z",
          "shell.execute_reply.started": "2021-11-23T13:21:55.868455Z",
          "shell.execute_reply": "2021-11-23T13:21:59.361102Z"
        },
        "trusted": true,
        "id": "lqnf8yx3rm0D"
      },
      "source": [
        "train = pd.read_csv('/kaggle/input/jigsaw-multilingual-toxic-comment-classification/jigsaw-toxic-comment-train.csv')\n",
        "validation = pd.read_csv('/kaggle/input/jigsaw-multilingual-toxic-comment-classification/validation.csv')\n",
        "test = pd.read_csv('/kaggle/input/jigsaw-multilingual-toxic-comment-classification/test.csv')"
      ],
      "execution_count": null,
      "outputs": []
    },
    {
      "cell_type": "code",
      "metadata": {
        "execution": {
          "iopub.status.busy": "2021-11-23T13:21:59.365116Z",
          "iopub.execute_input": "2021-11-23T13:21:59.365595Z",
          "iopub.status.idle": "2021-11-23T13:21:59.402122Z",
          "shell.execute_reply.started": "2021-11-23T13:21:59.365525Z",
          "shell.execute_reply": "2021-11-23T13:21:59.401195Z"
        },
        "trusted": true,
        "id": "c5yN_eLqrm0E"
      },
      "source": [
        "train.drop(['severe_toxic','obscene','threat','insult','identity_hate'],axis=1,inplace=True)"
      ],
      "execution_count": null,
      "outputs": []
    },
    {
      "cell_type": "code",
      "metadata": {
        "execution": {
          "iopub.status.busy": "2021-11-23T13:21:59.406990Z",
          "iopub.execute_input": "2021-11-23T13:21:59.409026Z",
          "iopub.status.idle": "2021-11-23T13:21:59.415846Z",
          "shell.execute_reply.started": "2021-11-23T13:21:59.408984Z",
          "shell.execute_reply": "2021-11-23T13:21:59.415100Z"
        },
        "trusted": true,
        "id": "zqQWJigdrm0E"
      },
      "source": [
        "train=train.loc[:12000,:]"
      ],
      "execution_count": null,
      "outputs": []
    },
    {
      "cell_type": "code",
      "metadata": {
        "execution": {
          "iopub.status.busy": "2021-11-23T13:21:59.420518Z",
          "iopub.execute_input": "2021-11-23T13:21:59.422468Z",
          "iopub.status.idle": "2021-11-23T13:21:59.533716Z",
          "shell.execute_reply.started": "2021-11-23T13:21:59.422432Z",
          "shell.execute_reply": "2021-11-23T13:21:59.532973Z"
        },
        "trusted": true,
        "id": "HpFrsNLurm0F"
      },
      "source": [
        "train['comment_text'].apply(lambda x:len(str(x).split())).max()"
      ],
      "execution_count": null,
      "outputs": []
    },
    {
      "cell_type": "code",
      "metadata": {
        "execution": {
          "iopub.status.busy": "2021-11-23T13:21:59.537730Z",
          "iopub.execute_input": "2021-11-23T13:21:59.539727Z",
          "iopub.status.idle": "2021-11-23T13:21:59.546820Z",
          "shell.execute_reply.started": "2021-11-23T13:21:59.539690Z",
          "shell.execute_reply": "2021-11-23T13:21:59.545992Z"
        },
        "trusted": true,
        "id": "0r3Qlkr_rm0F"
      },
      "source": [
        "def roc_auc(predictions,target):\n",
        "    '''\n",
        "    This methods returns the AUC Score when given the Predictions\n",
        "    and Labels\n",
        "    '''\n",
        "    \n",
        "    fpr, tpr, thresholds = metrics.roc_curve(target, predictions)\n",
        "    roc_auc = metrics.auc(fpr, tpr)\n",
        "    return roc_auc"
      ],
      "execution_count": null,
      "outputs": []
    },
    {
      "cell_type": "code",
      "metadata": {
        "execution": {
          "iopub.status.busy": "2021-11-23T13:21:59.552166Z",
          "iopub.execute_input": "2021-11-23T13:21:59.554725Z",
          "iopub.status.idle": "2021-11-23T13:21:59.578031Z",
          "shell.execute_reply.started": "2021-11-23T13:21:59.554686Z",
          "shell.execute_reply": "2021-11-23T13:21:59.577376Z"
        },
        "trusted": true,
        "id": "hvw6jQjhrm0G"
      },
      "source": [
        "X_train,X_valid,y_train,y_valid=train_test_split(train.comment_text.values,train.toxic.values,\n",
        "                                               stratify=train.toxic.values,\n",
        "                                               random_state=42,\n",
        "                                               test_size=0.3\n",
        "                                              \n",
        "                                              )"
      ],
      "execution_count": null,
      "outputs": []
    },
    {
      "cell_type": "code",
      "metadata": {
        "execution": {
          "iopub.status.busy": "2021-11-23T13:21:59.582187Z",
          "iopub.execute_input": "2021-11-23T13:21:59.584132Z",
          "iopub.status.idle": "2021-11-23T13:22:01.207075Z",
          "shell.execute_reply.started": "2021-11-23T13:21:59.584096Z",
          "shell.execute_reply": "2021-11-23T13:22:01.206135Z"
        },
        "trusted": true,
        "id": "Oj2gRLqWrm0H"
      },
      "source": [
        "token=text.Tokenizer(num_words=None)\n",
        "max_len=1500\n",
        "\n",
        "token.fit_on_texts(list(X_train)+list(X_valid))\n",
        "\n",
        "x_train_seq=token.texts_to_sequences(X_train)\n",
        "x_valid_seq=token.texts_to_sequences(X_valid)\n",
        "\n",
        "x_train_padded=sequence.pad_sequences(x_train_seq,maxlen=max_len)\n",
        "x_valid_padded=sequence.pad_sequences(x_valid_seq,maxlen=max_len)\n"
      ],
      "execution_count": null,
      "outputs": []
    },
    {
      "cell_type": "code",
      "metadata": {
        "execution": {
          "iopub.status.busy": "2021-11-23T13:22:01.209732Z",
          "iopub.execute_input": "2021-11-23T13:22:01.210007Z",
          "iopub.status.idle": "2021-11-23T13:22:01.213790Z",
          "shell.execute_reply.started": "2021-11-23T13:22:01.209970Z",
          "shell.execute_reply": "2021-11-23T13:22:01.212962Z"
        },
        "trusted": true,
        "id": "1zLI7zRlrm0I"
      },
      "source": [
        "word_index= token.word_index"
      ],
      "execution_count": null,
      "outputs": []
    },
    {
      "cell_type": "code",
      "metadata": {
        "execution": {
          "iopub.status.busy": "2021-11-23T13:22:01.215512Z",
          "iopub.execute_input": "2021-11-23T13:22:01.215780Z",
          "iopub.status.idle": "2021-11-23T13:22:03.796790Z",
          "shell.execute_reply.started": "2021-11-23T13:22:01.215739Z",
          "shell.execute_reply": "2021-11-23T13:22:03.796117Z"
        },
        "trusted": true,
        "id": "uJxslWSnrm0J"
      },
      "source": [
        "model1=Sequential()\n",
        "model1.add(Embedding(len(word_index)+1, 300, input_length=max_len))\n",
        "model1.add(SimpleRNN(100))\n",
        "model1.add(Dense(1,activation='sigmoid'))\n",
        "model1.compile(loss='binary_crossentropy',optimizer='adam', metrics=['accuracy'])\n",
        "model1.summary()"
      ],
      "execution_count": null,
      "outputs": []
    },
    {
      "cell_type": "code",
      "metadata": {
        "execution": {
          "iopub.status.busy": "2021-11-23T13:30:22.068637Z",
          "iopub.execute_input": "2021-11-23T13:30:22.069314Z",
          "iopub.status.idle": "2021-11-23T13:30:22.073429Z",
          "shell.execute_reply.started": "2021-11-23T13:30:22.069273Z",
          "shell.execute_reply": "2021-11-23T13:30:22.072734Z"
        },
        "trusted": true,
        "id": "p3HU-Qd6rm0K"
      },
      "source": [
        "checkpoint_path = \"./training_1/cp.ckpt\"\n",
        "checkpoint_dir = os.path.dirname(checkpoint_path)\n",
        "cp_callback = tf.keras.callbacks.ModelCheckpoint(filepath=checkpoint_path,\n",
        "                                                 save_weights_only=True,\n",
        "                                                 verbose=1)\n"
      ],
      "execution_count": null,
      "outputs": []
    },
    {
      "cell_type": "code",
      "metadata": {
        "execution": {
          "iopub.status.busy": "2021-11-23T13:30:22.378805Z",
          "iopub.execute_input": "2021-11-23T13:30:22.379391Z",
          "iopub.status.idle": "2021-11-23T13:49:44.379618Z",
          "shell.execute_reply.started": "2021-11-23T13:30:22.379353Z",
          "shell.execute_reply": "2021-11-23T13:49:44.378850Z"
        },
        "trusted": true,
        "id": "8ALDiD6nrm0L"
      },
      "source": [
        "model1.fit(x_train_padded, y_train, epochs=5, batch_size=64,validation_data=(x_valid_padded, y_valid),\n",
        "          callbacks=[cp_callback])"
      ],
      "execution_count": null,
      "outputs": []
    },
    {
      "cell_type": "code",
      "metadata": {
        "execution": {
          "iopub.status.busy": "2021-11-23T13:49:44.381370Z",
          "iopub.execute_input": "2021-11-23T13:49:44.381732Z",
          "iopub.status.idle": "2021-11-23T13:49:57.034489Z",
          "shell.execute_reply.started": "2021-11-23T13:49:44.381692Z",
          "shell.execute_reply": "2021-11-23T13:49:57.033694Z"
        },
        "trusted": true,
        "id": "98sESqF4rm0L"
      },
      "source": [
        "scores= model1.predict(x_valid_padded)\n",
        "print(\"Auc: %.2f%%\" % (roc_auc(scores,y_valid)))"
      ],
      "execution_count": null,
      "outputs": []
    },
    {
      "cell_type": "code",
      "metadata": {
        "execution": {
          "iopub.status.busy": "2021-11-23T13:49:57.035837Z",
          "iopub.execute_input": "2021-11-23T13:49:57.036652Z",
          "iopub.status.idle": "2021-11-23T13:49:57.043008Z",
          "shell.execute_reply.started": "2021-11-23T13:49:57.036585Z",
          "shell.execute_reply": "2021-11-23T13:49:57.042331Z"
        },
        "trusted": true,
        "id": "C5Ds-dwXrm0L"
      },
      "source": [
        "scores_model = []\n",
        "scores_model.append({'Model': 'SimpleRNN','AUC_Score': roc_auc(scores,y_valid)})"
      ],
      "execution_count": null,
      "outputs": []
    },
    {
      "cell_type": "markdown",
      "metadata": {
        "id": "EXjwgwAUrm0M"
      },
      "source": [
        "## Let's use GloVe Word Embeddings instead of setting them randomly"
      ]
    },
    {
      "cell_type": "code",
      "metadata": {
        "execution": {
          "iopub.status.busy": "2021-11-23T13:49:57.045706Z",
          "iopub.execute_input": "2021-11-23T13:49:57.046091Z",
          "iopub.status.idle": "2021-11-23T13:54:32.105149Z",
          "shell.execute_reply.started": "2021-11-23T13:49:57.046055Z",
          "shell.execute_reply": "2021-11-23T13:54:32.103345Z"
        },
        "trusted": true,
        "id": "ZsqlMRjarm0N"
      },
      "source": [
        "embeddings_index = {}\n",
        "f = open('/kaggle/input/glove840b300dtxt/glove.840B.300d.txt','r',encoding='utf-8')\n",
        "for line in tqdm(f):\n",
        "    values=line.split(\" \")\n",
        "    word=values[0]\n",
        "    coeff=np.asarray([float(val) for val in values[1:]])\n",
        "    embeddings_index[word]=coeff\n",
        "f.close()\n",
        "\n",
        "print('Found %s word vectors.' % len(embeddings_index))"
      ],
      "execution_count": null,
      "outputs": []
    },
    {
      "cell_type": "code",
      "metadata": {
        "execution": {
          "iopub.status.busy": "2021-11-23T13:54:32.106673Z",
          "iopub.execute_input": "2021-11-23T13:54:32.107081Z",
          "iopub.status.idle": "2021-11-23T13:54:32.277798Z",
          "shell.execute_reply.started": "2021-11-23T13:54:32.107045Z",
          "shell.execute_reply": "2021-11-23T13:54:32.276956Z"
        },
        "trusted": true,
        "id": "9LzLisxGrm0O"
      },
      "source": [
        "#creating embedding matrix for the words we have in the dataset\n",
        "\n",
        "embedding_matrix=np.zeros((len(word_index)+1,300))\n",
        "\n",
        "for word,i in tqdm(word_index.items()):\n",
        "    embedding_vector=embeddings_index.get(word)\n",
        "    if embedding_vector is not None:\n",
        "        embedding_matrix[i]=embedding_vector\n",
        "        "
      ],
      "execution_count": null,
      "outputs": []
    },
    {
      "cell_type": "code",
      "metadata": {
        "execution": {
          "iopub.status.busy": "2021-11-23T13:58:04.720124Z",
          "iopub.execute_input": "2021-11-23T13:58:04.720384Z",
          "iopub.status.idle": "2021-11-23T13:58:04.950042Z",
          "shell.execute_reply.started": "2021-11-23T13:58:04.720352Z",
          "shell.execute_reply": "2021-11-23T13:58:04.949283Z"
        },
        "trusted": true,
        "id": "EaNFEckzrm0P"
      },
      "source": [
        "model2=Sequential()\n",
        "model2.add(Embedding(len(word_index)+1,300,\n",
        "                     weights=[embedding_matrix],\n",
        "                      input_length=max_len,\n",
        "                      trainable=False\n",
        "                     ))\n",
        "model2.add(LSTM(80, dropout=0.3, recurrent_dropout=0.3))\n",
        "model2.add(Dense(1,activation='sigmoid'))\n",
        "model2.compile(loss='binary_crossentropy',optimizer='RMSprop', metrics=['accuracy'])\n",
        "\n",
        "model2.summary()"
      ],
      "execution_count": null,
      "outputs": []
    },
    {
      "cell_type": "code",
      "metadata": {
        "execution": {
          "iopub.status.busy": "2021-11-23T13:58:15.244696Z",
          "iopub.execute_input": "2021-11-23T13:58:15.245402Z",
          "iopub.status.idle": "2021-11-23T14:34:35.585148Z",
          "shell.execute_reply.started": "2021-11-23T13:58:15.245349Z",
          "shell.execute_reply": "2021-11-23T14:34:35.583283Z"
        },
        "trusted": true,
        "id": "V3Bstgf4rm0P"
      },
      "source": [
        "checkpoint_path = \"./training_2/cp.ckpt\"\n",
        "checkpoint_dir = os.path.dirname(checkpoint_path)\n",
        "cp_callback2 = tf.keras.callbacks.ModelCheckpoint(filepath=checkpoint_path,\n",
        "                                                 save_weights_only=True,\n",
        "                                                 verbose=1)\n",
        "\n",
        "model2.fit(x_train_padded,y_train,epochs=5,batch_size=128,callbacks=[cp_callback2])\n"
      ],
      "execution_count": null,
      "outputs": []
    },
    {
      "cell_type": "code",
      "metadata": {
        "execution": {
          "iopub.status.busy": "2021-11-23T14:41:48.273289Z",
          "iopub.execute_input": "2021-11-23T14:41:48.273844Z",
          "iopub.status.idle": "2021-11-23T14:42:33.079807Z",
          "shell.execute_reply.started": "2021-11-23T14:41:48.273811Z",
          "shell.execute_reply": "2021-11-23T14:42:33.079035Z"
        },
        "trusted": true,
        "id": "EYNMGAOwrm0Q"
      },
      "source": [
        "scores = model2.predict(x_valid_padded)\n",
        "print(\"Auc: %.2f%%\" % (roc_auc(scores,y_valid)))\n",
        "\n",
        "scores_model.append({'Model': 'LSTM','AUC_Score': roc_auc(scores,y_valid)})"
      ],
      "execution_count": null,
      "outputs": []
    },
    {
      "cell_type": "markdown",
      "metadata": {
        "id": "UnjuJsT0rm0Q"
      },
      "source": [
        "We now see that the model is not overfitting and achieves an auc score of 0.96 which is quite commendable , also we close in on the gap between accuracy and auc . We see that in this case we used dropout and prevented overfitting the data"
      ]
    },
    {
      "cell_type": "code",
      "metadata": {
        "execution": {
          "iopub.status.busy": "2021-11-23T14:42:47.717429Z",
          "iopub.execute_input": "2021-11-23T14:42:47.718074Z",
          "iopub.status.idle": "2021-11-23T14:42:48.009786Z",
          "shell.execute_reply.started": "2021-11-23T14:42:47.718034Z",
          "shell.execute_reply": "2021-11-23T14:42:48.009091Z"
        },
        "trusted": true,
        "id": "j9iVxTuLrm0Q"
      },
      "source": [
        "model3=Sequential()\n",
        "model3.add(Embedding(len(word_index)+1,300,\n",
        "                     weights=[embedding_matrix],\n",
        "                      input_length=max_len,\n",
        "                      trainable=False\n",
        "                     ))\n",
        "model3.add(SpatialDropout1D(0.3))\n",
        "model3.add(GRU(120))\n",
        "model3.add(Dense(1,activation='sigmoid'))\n",
        "model3.compile(loss='binary_crossentropy',optimizer='adam', metrics=['accuracy'])\n",
        "\n",
        "model3.summary()"
      ],
      "execution_count": null,
      "outputs": []
    },
    {
      "cell_type": "code",
      "metadata": {
        "execution": {
          "iopub.status.busy": "2021-11-23T14:42:57.044323Z",
          "iopub.execute_input": "2021-11-23T14:42:57.044862Z",
          "iopub.status.idle": "2021-11-23T14:44:20.429181Z",
          "shell.execute_reply.started": "2021-11-23T14:42:57.044823Z",
          "shell.execute_reply": "2021-11-23T14:44:20.428473Z"
        },
        "trusted": true,
        "id": "TxoaOeC2rm0R"
      },
      "source": [
        "checkpoint_path = \"./training_3/cp.ckpt\"\n",
        "checkpoint_dir = os.path.dirname(checkpoint_path)\n",
        "cp_callback3 = tf.keras.callbacks.ModelCheckpoint(filepath=checkpoint_path,\n",
        "                                                 save_weights_only=True,\n",
        "                                                 verbose=1)\n",
        "\n",
        "model3.fit(x_train_padded,y_train,epochs=5,batch_size=64,callbacks=[cp_callback3])\n"
      ],
      "execution_count": null,
      "outputs": []
    },
    {
      "cell_type": "code",
      "metadata": {
        "execution": {
          "iopub.status.busy": "2021-11-23T14:47:17.822234Z",
          "iopub.execute_input": "2021-11-23T14:47:17.823066Z",
          "iopub.status.idle": "2021-11-23T14:47:20.693407Z",
          "shell.execute_reply.started": "2021-11-23T14:47:17.823025Z",
          "shell.execute_reply": "2021-11-23T14:47:20.692669Z"
        },
        "trusted": true,
        "id": "r30U12TZrm0S"
      },
      "source": [
        "scores = model3.predict(x_valid_padded)\n",
        "print(\"Auc: %.2f%%\" % (roc_auc(scores,y_valid)))\n",
        "\n",
        "scores_model.append({'Model': 'GRU','AUC_Score': roc_auc(scores,y_valid)})"
      ],
      "execution_count": null,
      "outputs": []
    },
    {
      "cell_type": "code",
      "metadata": {
        "execution": {
          "iopub.status.busy": "2021-11-23T14:47:24.147304Z",
          "iopub.execute_input": "2021-11-23T14:47:24.147738Z",
          "iopub.status.idle": "2021-11-23T14:47:24.162508Z",
          "shell.execute_reply.started": "2021-11-23T14:47:24.147700Z",
          "shell.execute_reply": "2021-11-23T14:47:24.161694Z"
        },
        "trusted": true,
        "id": "UAxnG1gbrm0T"
      },
      "source": [
        "# Visualization of Results obtained from various Deep learning models\n",
        "results = pd.DataFrame(scores_model).sort_values(by='AUC_Score',ascending=False)\n",
        "results.style.background_gradient(cmap='Blues')"
      ],
      "execution_count": null,
      "outputs": []
    },
    {
      "cell_type": "code",
      "metadata": {
        "execution": {
          "iopub.status.busy": "2021-11-23T14:47:29.105033Z",
          "iopub.execute_input": "2021-11-23T14:47:29.105289Z",
          "iopub.status.idle": "2021-11-23T14:47:29.115890Z",
          "shell.execute_reply.started": "2021-11-23T14:47:29.105259Z",
          "shell.execute_reply": "2021-11-23T14:47:29.115137Z"
        },
        "trusted": true,
        "id": "tbE59BUYrm0T"
      },
      "source": [
        "fig = go.Figure(go.Funnelarea(\n",
        "    text =results.Model,\n",
        "    values = results.AUC_Score,\n",
        "    title = {\"position\": \"top center\", \"text\": \"Funnel-Chart of Sentiment Distribution\"}\n",
        "    ))\n",
        "fig.show()"
      ],
      "execution_count": null,
      "outputs": []
    },
    {
      "cell_type": "code",
      "metadata": {
        "id": "c8G6kkQHrm0T"
      },
      "source": [
        ""
      ],
      "execution_count": null,
      "outputs": []
    }
  ]
}